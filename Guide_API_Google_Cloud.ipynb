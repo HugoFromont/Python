{
  "nbformat": 4,
  "nbformat_minor": 0,
  "metadata": {
    "kernelspec": {
      "display_name": "Python 3",
      "language": "python",
      "name": "python3"
    },
    "language_info": {
      "codemirror_mode": {
        "name": "ipython",
        "version": 3
      },
      "file_extension": ".py",
      "mimetype": "text/x-python",
      "name": "python",
      "nbconvert_exporter": "python",
      "pygments_lexer": "ipython3",
      "version": "3.7.0"
    },
    "colab": {
      "name": "Tuto_Manipulation_BigQuery.ipynb",
      "provenance": []
    }
  },
  "cells": [
    {
      "cell_type": "markdown",
      "metadata": {
        "id": "3eAi_TVBtk1M",
        "colab_type": "text"
      },
      "source": [
        "# Guide Google Cloud Platflorm API"
      ]
    },
    {
      "cell_type": "markdown",
      "metadata": {
        "id": "FLaiBeEYwpdA",
        "colab_type": "text"
      },
      "source": [
        "Afin d'automatiser certain processus sur la platform Google Cloud Platform, il est possible d'utiliser l'API avec Pyhton ou d'autres languages."
      ]
    },
    {
      "cell_type": "markdown",
      "metadata": {
        "id": "s-OexCH1tq6B",
        "colab_type": "text"
      },
      "source": [
        "## BigQuery"
      ]
    },
    {
      "cell_type": "markdown",
      "metadata": {
        "id": "GzbI-PIlxP01",
        "colab_type": "text"
      },
      "source": [
        "BigQuery est un outil de GCP permettant de stocker un d'interoger des données avec une très grande rapidité. Tout comme la plupard des produits GCP, il est possible d'interagir avec l'outil grace à l'API."
      ]
    },
    {
      "cell_type": "markdown",
      "metadata": {
        "id": "38yBGFhctPCv",
        "colab_type": "text"
      },
      "source": [
        "#### Importer les resultats d'une requète dans un DataFrame"
      ]
    },
    {
      "cell_type": "code",
      "metadata": {
        "id": "GTVgJFf4tPCw",
        "colab_type": "code",
        "colab": {},
        "outputId": "9e302cf3-2040-40d7-d6ac-48777ffe4fe9"
      },
      "source": [
        "from google.cloud import bigquery\n",
        "client = bigquery.Client()\n",
        "\n",
        "sql = (\n",
        "    \"SELECT * FROM `Project_id.dataset_id.Table_id` LIMIT 10\"\n",
        ")\n",
        "\n",
        "data = client.query(sql).to_dataframe()\n",
        "\n",
        "print(data.shape)"
      ],
      "execution_count": 0,
      "outputs": [
        {
          "output_type": "stream",
          "text": [
            "(10, 28)\n"
          ],
          "name": "stdout"
        }
      ]
    },
    {
      "cell_type": "markdown",
      "metadata": {
        "id": "SqKRKCgAtPC2",
        "colab_type": "text"
      },
      "source": [
        "##### Autre méthode"
      ]
    },
    {
      "cell_type": "code",
      "metadata": {
        "id": "vaZRRhvvtPC4",
        "colab_type": "code",
        "colab": {}
      },
      "source": [
        "%%bigquery df\n",
        "SELECT \n",
        "    *\n",
        "FROM `Project_id.dataset_id.Table_id`\n",
        "LIMIT 10"
      ],
      "execution_count": 0,
      "outputs": []
    },
    {
      "cell_type": "markdown",
      "metadata": {
        "id": "nq5Y6KEYtPC7",
        "colab_type": "text"
      },
      "source": [
        "#### Création d'une table BigQuery"
      ]
    },
    {
      "cell_type": "code",
      "metadata": {
        "id": "MBGUh2xGtPC9",
        "colab_type": "code",
        "colab": {}
      },
      "source": [
        "from google.cloud import bigquery\n",
        "client = bigquery.Client()\n",
        "\n",
        "schema = [\n",
        "    bigquery.SchemaField(\"nom\", \"string\", mode=\"NULLABLE\"),\n",
        "    bigquery.SchemaField(\"prenom\", \"string\", mode=\"NULLABLE\"),\n",
        "    bigquery.SchemaField(\"age\", \"INTEGER\", mode=\"NULLABLE\"),\n",
        "]\n",
        "\n",
        "table_id = \"Project_id.dataset_id.Table_id\"\n",
        "\n",
        "table = bigquery.Table(table_id, schema=schema)\n",
        "\n",
        "client.create_table(table)"
      ],
      "execution_count": 0,
      "outputs": []
    },
    {
      "cell_type": "markdown",
      "metadata": {
        "id": "E6tJqUQ6tPDD",
        "colab_type": "text"
      },
      "source": [
        "#### Créer une table à partir des résultats d'une requète"
      ]
    },
    {
      "cell_type": "code",
      "metadata": {
        "id": "rIsF8-7otPDE",
        "colab_type": "code",
        "colab": {},
        "outputId": "e772f69d-3f2c-403b-b766-b8a1bddc7305"
      },
      "source": [
        "from google.cloud import bigquery\n",
        "client = bigquery.Client()\n",
        "\n",
        "table_id = \"Project_id.dataset_id.Table_id\"\n",
        "table_ref = bigquery.Table(table_id)\n",
        "\n",
        "job_config = bigquery.QueryJobConfig()\n",
        "job_config.destination = table_ref\n",
        "\n",
        "sql = \"\"\"\n",
        "    SELECT *\n",
        "    FROM `Project_id.dataset_id.Table_id`\n",
        "    LIMIT 10\n",
        "\"\"\"\n",
        "\n",
        "query_job = client.query(\n",
        "    sql,\n",
        "    location='EU',\n",
        "    job_config=job_config)\n",
        "\n",
        "query_job.result()"
      ],
      "execution_count": 0,
      "outputs": [
        {
          "output_type": "execute_result",
          "data": {
            "text/plain": [
              "<google.cloud.bigquery.table.RowIterator at 0x12e89fd0>"
            ]
          },
          "metadata": {
            "tags": []
          },
          "execution_count": 87
        }
      ]
    },
    {
      "cell_type": "markdown",
      "metadata": {
        "id": "z-v4-MtFtPDH",
        "colab_type": "text"
      },
      "source": [
        "#### Obtenir des informations sur une tables"
      ]
    },
    {
      "cell_type": "code",
      "metadata": {
        "id": "ILorX-rDtPDI",
        "colab_type": "code",
        "colab": {},
        "outputId": "e5e77703-68fa-4870-eb2d-53208a9ee59b"
      },
      "source": [
        "from google.cloud import bigquery\n",
        "client = bigquery.Client()\n",
        "\n",
        "\n",
        "table_id = `Project_id.dataset_id.Table_id`\n",
        "\n",
        "table = client.get_table(table_id)\n",
        "\n",
        "## (project,dataset_id,table_id,schema,description,num_rows,expires,labels,num_bytes...)\n",
        "print(\"Nn Ligne : {}\".format(table.num_rows))"
      ],
      "execution_count": 0,
      "outputs": [
        {
          "output_type": "stream",
          "text": [
            "Nn Ligne : 42467785\n"
          ],
          "name": "stdout"
        }
      ]
    },
    {
      "cell_type": "markdown",
      "metadata": {
        "id": "Y_ODPfejtPDL",
        "colab_type": "text"
      },
      "source": [
        "#### Inserer des données dans une table BigQuery"
      ]
    },
    {
      "cell_type": "code",
      "metadata": {
        "id": "R1ia_5yWtPDL",
        "colab_type": "code",
        "colab": {},
        "outputId": "b565febc-7ff2-4ad8-b430-cd769cb0f6f1"
      },
      "source": [
        "from google.cloud import bigquery\n",
        "client = bigquery.Client()\n",
        "\n",
        "table_id = `Project_id.dataset_id.Table_id`\n",
        "table = client.get_table(table_id)\n",
        "\n",
        "rows_to_insert = [\n",
        "    (\"Nom\",\"Prenom\", 23)\n",
        "]\n",
        "\n",
        "client.insert_rows(table, rows_to_insert)"
      ],
      "execution_count": 0,
      "outputs": [
        {
          "output_type": "execute_result",
          "data": {
            "text/plain": [
              "[]"
            ]
          },
          "metadata": {
            "tags": []
          },
          "execution_count": 141
        }
      ]
    },
    {
      "cell_type": "markdown",
      "metadata": {
        "id": "LlQVSfAAtPDO",
        "colab_type": "text"
      },
      "source": [
        "#### Requète parametré"
      ]
    },
    {
      "cell_type": "code",
      "metadata": {
        "id": "UvbVQHjMtPDP",
        "colab_type": "code",
        "colab": {}
      },
      "source": [
        "from google.cloud import bigquery\n",
        "client = bigquery.Client()\n",
        "\n",
        "sql = \"\"\"\n",
        "    SELECT *\n",
        "    FROM  `Project_id.dataset_id.Table_id`\n",
        "    WHERE parametre = @filtre_parametre\n",
        "\"\"\"\n",
        "query_config = bigquery.QueryJobConfig(\n",
        "    query_parameters=[\n",
        "        bigquery.ScalarQueryParameter('filtre_parametre', 'STRING', 'parametre-123')\n",
        "    ]\n",
        ")\n",
        "\n",
        "df = client.query(sql, job_config=query_config).to_dataframe()"
      ],
      "execution_count": 0,
      "outputs": []
    },
    {
      "cell_type": "markdown",
      "metadata": {
        "id": "OhRt0IsitPDR",
        "colab_type": "text"
      },
      "source": [
        "#### Charger un dataframe dans une table Bigquery"
      ]
    },
    {
      "cell_type": "code",
      "metadata": {
        "id": "eJSwjm-ttPDS",
        "colab_type": "code",
        "colab": {}
      },
      "source": [
        "import pandas as pd\n",
        "\n",
        "from google.cloud import bigquery\n",
        "client = bigquery.Client()\n",
        "\n",
        "df = pd.DataFrame(\n",
        "    {\n",
        "        'prenom': ['prenom', 'prenom2', 'prenom3'],\n",
        "        'nom': ['nom', 'nom2', 'nom3'],\n",
        "        'age': [22, 23, 24],\n",
        "    }\n",
        ")\n",
        "\n",
        "dataset_ref = client.dataset('dataset_id')\n",
        "table_ref = dataset_ref.table('table_id')\n",
        "\n",
        "client.load_table_from_dataframe(df, table_ref).result()"
      ],
      "execution_count": 0,
      "outputs": []
    },
    {
      "cell_type": "markdown",
      "metadata": {
        "id": "mybMGtjFtPDV",
        "colab_type": "text"
      },
      "source": [
        "##### Autre méthode"
      ]
    },
    {
      "cell_type": "code",
      "metadata": {
        "id": "Qx17Cw4ItPDW",
        "colab_type": "code",
        "colab": {},
        "outputId": "ffb8982a-9723-45eb-d26b-fdcbcc71282b"
      },
      "source": [
        "import pandas\n",
        "\n",
        "df = pd.DataFrame(\n",
        "    {\n",
        "        'prenom': ['prenom', 'prenom2', 'prenom3'],\n",
        "        'nom': ['nom', 'nom2', 'nom3'],\n",
        "        'age': [22, 23, 24],\n",
        "    }\n",
        ")\n",
        "\n",
        "full_table_id = 'dataset_id.table_id'\n",
        "project_id = 'project_id'\n",
        "\n",
        "df.to_gbq(full_table_id, project_id=project_id)"
      ],
      "execution_count": 0,
      "outputs": [
        {
          "output_type": "stream",
          "text": [
            "1it [00:03,  3.58s/it]\n"
          ],
          "name": "stderr"
        }
      ]
    },
    {
      "cell_type": "markdown",
      "metadata": {
        "id": "Qk06_eKktPDZ",
        "colab_type": "text"
      },
      "source": [
        "#### Supprimer une table BigQuery"
      ]
    },
    {
      "cell_type": "code",
      "metadata": {
        "id": "SCD6MNvGtPDZ",
        "colab_type": "code",
        "colab": {}
      },
      "source": [
        "from google.cloud import bigquery\n",
        "client = bigquery.Client()\n",
        "\n",
        "table_id = 'project_id.dataset_id.table_id'\n",
        "\n",
        "client.delete_table(table_id, not_found_ok=True)"
      ],
      "execution_count": 0,
      "outputs": []
    },
    {
      "cell_type": "markdown",
      "metadata": {
        "id": "V1w-f4JWtPDc",
        "colab_type": "text"
      },
      "source": [
        "#### Mettre à jour une table BigQuery"
      ]
    },
    {
      "cell_type": "code",
      "metadata": {
        "id": "yzZZcS6ntPDd",
        "colab_type": "code",
        "colab": {}
      },
      "source": [
        "from google.cloud import bigquery\n",
        "client = bigquery.Client()\n",
        "\n",
        "table_ref = client.dataset('dataset_id', project=\"project_id\").table('table_id')\n",
        "table = client.get_table(table_ref)\n",
        "\n",
        "table.description = \"Ajoutez une description\"\n",
        "\n",
        "table = client.update_table(table, [\"description\"])"
      ],
      "execution_count": 0,
      "outputs": []
    },
    {
      "cell_type": "markdown",
      "metadata": {
        "id": "ZySpWZm1tPDg",
        "colab_type": "text"
      },
      "source": [
        "#### Copier une table BigQuery"
      ]
    },
    {
      "cell_type": "code",
      "metadata": {
        "id": "OMkyq8KTtPDh",
        "colab_type": "code",
        "colab": {},
        "outputId": "902262ba-600f-4f26-b361-ccae9d517c00"
      },
      "source": [
        "from google.cloud import bigquery\n",
        "client = bigquery.Client()\n",
        "\n",
        "source_dataset = client.dataset('dataset_id', project=\"project_id\")\n",
        "source_table_ref = source_dataset.table('table_id')\n",
        "\n",
        "# dataset_id = 'my_dataset'\n",
        "dest_table_ref = client.dataset('dataset_id', project=\"project_id\").table(\"table_id\")\n",
        "\n",
        "job = client.copy_table(\n",
        "    source_table_ref,\n",
        "    dest_table_ref,\n",
        "    location=\"EU\",\n",
        ")\n",
        "\n",
        "job.result()"
      ],
      "execution_count": 0,
      "outputs": [
        {
          "output_type": "execute_result",
          "data": {
            "text/plain": [
              "<google.cloud.bigquery.job.CopyJob at 0x1470ee48>"
            ]
          },
          "metadata": {
            "tags": []
          },
          "execution_count": 186
        }
      ]
    },
    {
      "cell_type": "markdown",
      "metadata": {
        "id": "J_F2MqnxtPDk",
        "colab_type": "text"
      },
      "source": [
        "#### Executer une simple requète BQ"
      ]
    },
    {
      "cell_type": "code",
      "metadata": {
        "id": "XS0BwjtHtPDl",
        "colab_type": "code",
        "colab": {},
        "outputId": "d0c1b6f5-7ef8-46b5-dc7a-618f07c978a2"
      },
      "source": [
        "from google.cloud import bigquery\n",
        "client = bigquery.Client()\n",
        "\n",
        "sql = \"\"\"\n",
        "    CREATE OR REPLACE TABLE `project_id.dataset_id.table_id`\n",
        "    PARTITION BY date\n",
        "    CLUSTER BY variable1,variable2  \n",
        "    as\n",
        "    \n",
        "    SELECT *\n",
        "    FROM `project_id.dataset_id.table_id`\n",
        "    LIMIT 100\n",
        "\"\"\"\n",
        "\n",
        "client.query(sql)"
      ],
      "execution_count": 0,
      "outputs": [
        {
          "output_type": "execute_result",
          "data": {
            "text/plain": [
              "<google.cloud.bigquery.job.QueryJob at 0x143d5828>"
            ]
          },
          "metadata": {
            "tags": []
          },
          "execution_count": 208
        }
      ]
    },
    {
      "cell_type": "markdown",
      "metadata": {
        "id": "xHN9dSRJviXP",
        "colab_type": "text"
      },
      "source": [
        "## Google Cloud Storage"
      ]
    },
    {
      "cell_type": "markdown",
      "metadata": {
        "id": "3YpnQhCFx9qW",
        "colab_type": "text"
      },
      "source": [
        "Google Cloud Storage est un outil de GCP qui permet de stocker tout type de fichier sur la platform."
      ]
    },
    {
      "cell_type": "markdown",
      "metadata": {
        "id": "VtgheOv_vk5t",
        "colab_type": "text"
      },
      "source": [
        "#### Créer un Bucket"
      ]
    },
    {
      "cell_type": "code",
      "metadata": {
        "id": "OTr52N15vlAw",
        "colab_type": "code",
        "colab": {}
      },
      "source": [
        "from google.cloud import storage\n",
        "storage_client = storage.Client()\n",
        "\n",
        "bucket_name = 'bucket_name'\n",
        "\n",
        "bucket = storage_client.create_bucket(bucket_name)"
      ],
      "execution_count": 0,
      "outputs": []
    },
    {
      "cell_type": "markdown",
      "metadata": {
        "id": "wAQnA3g-vt5o",
        "colab_type": "text"
      },
      "source": [
        "#### Supprimer un Bucket"
      ]
    },
    {
      "cell_type": "code",
      "metadata": {
        "id": "xjeZRqiDvuBI",
        "colab_type": "code",
        "colab": {}
      },
      "source": [
        "from google.cloud import storage\n",
        "storage_client = storage.Client()\n",
        "\n",
        "bucket_name = 'bucket_name'\n",
        "bucket = storage_client.get_bucket(bucket_name)\n",
        "\n",
        "bucket.delete()"
      ],
      "execution_count": 0,
      "outputs": []
    },
    {
      "cell_type": "markdown",
      "metadata": {
        "id": "VQVXRQB4vuH5",
        "colab_type": "text"
      },
      "source": [
        "#### Telecharger un fichier"
      ]
    },
    {
      "cell_type": "code",
      "metadata": {
        "id": "HbbKDyAsvuPg",
        "colab_type": "code",
        "colab": {}
      },
      "source": [
        "from google.cloud import storage\n",
        "storage_client = storage.Client()\n",
        "\n",
        "bucket_name =  \"bucket_name\"\n",
        "bucket = storage_client.get_bucket(bucket_name)\n",
        "\n",
        "source_blob_name = \"sous_bucket/file_name.csv\"\n",
        "blob = bucket.blob(source_blob_name)\n",
        "\n",
        "blob.download_to_filename(\"local_path\")"
      ],
      "execution_count": 0,
      "outputs": []
    },
    {
      "cell_type": "markdown",
      "metadata": {
        "id": "2rJ_xavxvuVu",
        "colab_type": "text"
      },
      "source": [
        "#### Importer un fichier"
      ]
    },
    {
      "cell_type": "code",
      "metadata": {
        "id": "1NBSdT4Dvucx",
        "colab_type": "code",
        "colab": {}
      },
      "source": [
        "from google.cloud import storage\n",
        "storage_client = storage.Client()\n",
        "\n",
        "bucket_name =  \"bucket_name\"\n",
        "bucket = storage_client.get_bucket(bucket_name)\n",
        "\n",
        "source_blob_name = \"sous_bucket/file_name.csv\"\n",
        "blob = bucket.blob(source_blob_name)\n",
        "\n",
        "blob.upload_from_filename(\"local_path\")"
      ],
      "execution_count": 0,
      "outputs": []
    },
    {
      "cell_type": "markdown",
      "metadata": {
        "id": "relwle-Yvuiz",
        "colab_type": "text"
      },
      "source": [
        "#### Supprimer un fichier"
      ]
    },
    {
      "cell_type": "code",
      "metadata": {
        "id": "ygbSWoJpvuq-",
        "colab_type": "code",
        "colab": {}
      },
      "source": [
        "from google.cloud import storage\n",
        "storage_client = storage.Client()\n",
        "\n",
        "bucket_name =  \"bucket_name\"\n",
        "bucket = storage_client.get_bucket(bucket_name)\n",
        "\n",
        "source_blob_name = \"sous_bucket/file_name.csv\"\n",
        "blob = bucket.blob(source_blob_name)\n",
        "\n",
        "blob.delete()"
      ],
      "execution_count": 0,
      "outputs": []
    },
    {
      "cell_type": "markdown",
      "metadata": {
        "id": "JS43uGSpvuwz",
        "colab_type": "text"
      },
      "source": [
        "#### Mettre à jour un fichier"
      ]
    },
    {
      "cell_type": "code",
      "metadata": {
        "id": "y_w0_2oOvu4b",
        "colab_type": "code",
        "colab": {}
      },
      "source": [
        "from google.cloud import storage\n",
        "storage_client = storage.Client()\n",
        "\n",
        "bucket_name =  \"bucket_name\"\n",
        "bucket = storage_client.get_bucket(bucket_name)\n",
        "\n",
        "source_blob_name = \"sous_bucket/file_name.csv\"\n",
        "blob = bucket.blob(source_blob_name)\n",
        "\n",
        "blob.upload_from_filename(source_file_name)"
      ],
      "execution_count": 0,
      "outputs": []
    },
    {
      "cell_type": "markdown",
      "metadata": {
        "id": "AcBPGuVxvu95",
        "colab_type": "text"
      },
      "source": [
        "#### Liste des blobs dans un bucket "
      ]
    },
    {
      "cell_type": "code",
      "metadata": {
        "id": "-mJHvNltvvDY",
        "colab_type": "code",
        "colab": {}
      },
      "source": [
        "from google.cloud import storage\n",
        "storage_client = storage.Client()\n",
        "\n",
        "bucket_name =  \"bucket_name\"\n",
        "bucket = storage_client.get_bucket(bucket_name)\n",
        "\n",
        "bucket.list_blobs()"
      ],
      "execution_count": 0,
      "outputs": []
    },
    {
      "cell_type": "markdown",
      "metadata": {
        "id": "Xb-JkWojvvJx",
        "colab_type": "text"
      },
      "source": [
        "#### Liste des blobs commencant par un prefixe"
      ]
    },
    {
      "cell_type": "code",
      "metadata": {
        "id": "d43dd7sKvvPW",
        "colab_type": "code",
        "colab": {}
      },
      "source": [
        "from google.cloud import storage\n",
        "storage_client = storage.Client()\n",
        "\n",
        "bucket_name =  \"bucket_name\"\n",
        "bucket = storage_client.get_bucket(bucket_name)\n",
        "\n",
        "prefix = \"data\"\n",
        "blobs = bucket.list_blobs(prefix=prefix)#, delimiter=\"/\")"
      ],
      "execution_count": 0,
      "outputs": []
    }
  ]
}