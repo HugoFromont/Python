{
  "nbformat": 4,
  "nbformat_minor": 0,
  "metadata": {
    "kernelspec": {
      "display_name": "Python 3",
      "language": "python",
      "name": "python3"
    },
    "language_info": {
      "codemirror_mode": {
        "name": "ipython",
        "version": 3
      },
      "file_extension": ".py",
      "mimetype": "text/x-python",
      "name": "python",
      "nbconvert_exporter": "python",
      "pygments_lexer": "ipython3",
      "version": "3.7.0"
    },
    "colab": {
      "name": "Tuto_Pandas.ipynb",
      "provenance": [],
      "toc_visible": true
    }
  },
  "cells": [
    {
      "cell_type": "markdown",
      "metadata": {
        "id": "9NVRdCiIgyzt",
        "colab_type": "text"
      },
      "source": [
        "# Memo Pandas"
      ]
    },
    {
      "cell_type": "markdown",
      "metadata": {
        "id": "0MYlwEtYgyzx",
        "colab_type": "text"
      },
      "source": [
        "A travers ce notebook nous verons les fonctions les plus utiles de panda. <br>\n",
        "La librarie Pandas est très utilisé pour la création, la manipulation et la visualisation de dataframe avec python."
      ]
    },
    {
      "cell_type": "code",
      "metadata": {
        "id": "4J5mH9CMgyzy",
        "colab_type": "code",
        "colab": {}
      },
      "source": [
        "import pandas as pd"
      ],
      "execution_count": 0,
      "outputs": []
    },
    {
      "cell_type": "markdown",
      "metadata": {
        "id": "ek4duWgOgyz1",
        "colab_type": "text"
      },
      "source": [
        "## Importation de données"
      ]
    },
    {
      "cell_type": "markdown",
      "metadata": {
        "id": "t9ZkBeP2gyz2",
        "colab_type": "text"
      },
      "source": [
        "Il est possible de créer un dataframe à partir d'objat pyhton."
      ]
    },
    {
      "cell_type": "code",
      "metadata": {
        "id": "DPgDj4pvgyz3",
        "colab_type": "code",
        "colab": {
          "base_uri": "https://localhost:8080/",
          "height": 142
        },
        "outputId": "b5053c2a-69b9-4b28-e0ce-82a0a56a75f0"
      },
      "source": [
        "# Création d'un dataframe à partir d'une liste\n",
        "data = [['prenom1', 21], ['prenom2', 32], ['prenom3', 12]] \n",
        "pd.DataFrame(data, columns = ['prenom', 'age'])\n",
        "\n",
        "# Même Chose avec un dictionnaire\n",
        "data = {'prenom':['prenom1', 'prenom2', 'prenom3'], 'age':[21, 32, 12]}\n",
        "pd.DataFrame(data)"
      ],
      "execution_count": 2,
      "outputs": [
        {
          "output_type": "execute_result",
          "data": {
            "text/html": [
              "<div>\n",
              "<style scoped>\n",
              "    .dataframe tbody tr th:only-of-type {\n",
              "        vertical-align: middle;\n",
              "    }\n",
              "\n",
              "    .dataframe tbody tr th {\n",
              "        vertical-align: top;\n",
              "    }\n",
              "\n",
              "    .dataframe thead th {\n",
              "        text-align: right;\n",
              "    }\n",
              "</style>\n",
              "<table border=\"1\" class=\"dataframe\">\n",
              "  <thead>\n",
              "    <tr style=\"text-align: right;\">\n",
              "      <th></th>\n",
              "      <th>prenom</th>\n",
              "      <th>age</th>\n",
              "    </tr>\n",
              "  </thead>\n",
              "  <tbody>\n",
              "    <tr>\n",
              "      <th>0</th>\n",
              "      <td>prenom1</td>\n",
              "      <td>21</td>\n",
              "    </tr>\n",
              "    <tr>\n",
              "      <th>1</th>\n",
              "      <td>prenom2</td>\n",
              "      <td>32</td>\n",
              "    </tr>\n",
              "    <tr>\n",
              "      <th>2</th>\n",
              "      <td>prenom3</td>\n",
              "      <td>12</td>\n",
              "    </tr>\n",
              "  </tbody>\n",
              "</table>\n",
              "</div>"
            ],
            "text/plain": [
              "    prenom  age\n",
              "0  prenom1   21\n",
              "1  prenom2   32\n",
              "2  prenom3   12"
            ]
          },
          "metadata": {
            "tags": []
          },
          "execution_count": 2
        }
      ]
    },
    {
      "cell_type": "markdown",
      "metadata": {
        "id": "-aCSoYKDgyz7",
        "colab_type": "text"
      },
      "source": [
        "Mais la plupart du temps nous utiliserons des données stocké dans un fichier externe. \n",
        "Pour cela nous pouvons utliser les fonctions de pandas qui permettent d'importer de nombreux types de fichiers et de les convertir en object pandas.\n",
        "Voici un resumé des principales fonctions de pandas pour l'importation de données "
      ]
    },
    {
      "cell_type": "markdown",
      "metadata": {
        "id": "0NlLCjYQgyz8",
        "colab_type": "text"
      },
      "source": [
        "|   Type Fichier   |   Fonction |   Decription |   lien doc |\n",
        "|:-:|:-:|:-:|:-:|\n",
        "|Pickling|read_pickle|Load pickled pandas object (or any object) from file.|[lien](https://pandas.pydata.org/pandas-docs/stable/reference/api/pandas.read_pickle.html#pandas.read_pickle)|\n",
        "|Flat file|read_table|Read general delimited file into DataFrame.|[lien](https://pandas.pydata.org/pandas-docs/stable/reference/api/pandas.read_table.html#pandas.read_table)|\n",
        "|Flat file|read_csv|Read a comma-separated values (csv) file into DataFrame.|[lien](https://pandas.pydata.org/pandas-docs/stable/reference/api/pandas.read_csv.html#pandas.read_csv)|\n",
        "|Flat file|read_fwf|Read a table of fixed-width formatted lines into DataFrame.|[lien](https://pandas.pydata.org/pandas-docs/stable/reference/api/pandas.read_fwf.html#pandas.read_fwf)|\n",
        "|Flat file|read_msgpack|(DEPRECATED) Load msgpack pandas object from the specified file path.|[lien](https://pandas.pydata.org/pandas-docs/stable/reference/api/pandas.read_msgpack.html#pandas.read_msgpack)|\n",
        "|Clipboard|read_clipboard|Read text from clipboard and pass to read_csv.|[lien](https://pandas.pydata.org/pandas-docs/stable/reference/api/pandas.read_clipboard.html#pandas.read_clipboard)|\n",
        "|Excel|read_excel|Read an Excel file into a pandas DataFrame.|[lien](https://pandas.pydata.org/pandas-docs/stable/reference/api/pandas.read_excel.html#pandas.read_excel)|\n",
        "|JSON|read_json|Convert a JSON string to pandas object.|[lien](https://pandas.pydata.org/pandas-docs/stable/reference/api/pandas.read_json.html#pandas.read_json)|\n",
        "|HTML|read_html|Read HTML tables into a list of DataFrame objects.|[lien](https://pandas.pydata.org/pandas-docs/stable/reference/api/pandas.read_html.html#pandas.read_html)|\n",
        "|HDF5|read_hdf|Read from the store, close it if we opened it.|[lien](https://pandas.pydata.org/pandas-docs/stable/reference/api/pandas.read_hdf.html#pandas.read_hdf)|\n",
        "|Feather|read_feather|Load a feather-format object from the file path.|[lien](https://pandas.pydata.org/pandas-docs/stable/reference/api/pandas.read_feather.html#pandas.read_feather)|\n",
        "|Parquet|read_parquet|Load a parquet object from the file path, returning a DataFrame.|[lien](https://pandas.pydata.org/pandas-docs/stable/reference/api/pandas.read_parquet.html#pandas.read_parquet)|\n",
        "|SAS|read_sas|Read SAS files stored as either XPORT or SAS7BDAT format files.|[lien](https://pandas.pydata.org/pandas-docs/stable/reference/api/pandas.read_sas.html#pandas.read_sas)|\n",
        "|SQL|read_sql_table|Read SQL database table into a DataFrame.|[lien](https://pandas.pydata.org/pandas-docs/stable/reference/api/pandas.read_sql_table.html#pandas.read_sql_table)|\n",
        "|SQL|read_sql_query|Read SQL query into a DataFrame.|[lien](https://pandas.pydata.org/pandas-docs/stable/reference/api/pandas.read_sql_query.html#pandas.read_sql_query)|\n",
        "|SQL|read_sql|Read SQL query or database table into a DataFrame.|[lien](https://pandas.pydata.org/pandas-docs/stable/reference/api/pandas.read_sql.html#pandas.read_sql)|\n",
        "|Google BigQuery|read_gbq|Load data from Google BigQuery.|[lien](https://pandas.pydata.org/pandas-docs/stable/reference/api/pandas.read_gbq.html#pandas.read_gbq)|\n",
        "|STATA|read_stata|Read Stata file into DataFrame.|[lien](https://pandas.pydata.org/pandas-docs/stable/reference/api/pandas.read_stata.html#pandas.read_stata)|"
      ]
    },
    {
      "cell_type": "markdown",
      "metadata": {
        "id": "qAc9sfJjgyz9",
        "colab_type": "text"
      },
      "source": [
        "Pour la suite, nous allons utiliser un jeux de données sur les maladies cardiaque disponible sur Kaggle.\n",
        "Le jeux de données contient 13 variables :\n",
        "* âge\n",
        "* sexe\n",
        "* type de douleur thoracique (4 valeurs)\n",
        "* tension artérielle au repos\n",
        "* cholestoral sérique en mg / dl\n",
        "* glycémie à jeun> 120 mg / dl\n",
        "* résultats électrocardiographiques au repos (valeurs 0,1,2)\n",
        "* fréquence cardiaque maximale atteinte\n",
        "* angine de poitrine\n",
        "* pente du segment ST d'exercice maximal\n",
        "* nombre de principaux vaisseaux (0-3) colorés par une fluoroscopie\n",
        "* thal: 3 = normal; 6 = défaut fixe; 7 = défaut réversible\n",
        "\n",
        "Nous avons rajouter des lignes à ce jeux de données pour illustrer quelques exemples <br>\n",
        "\n",
        "Pour importer ce jeux de données, nous allons utiliser la fonction read_csv"
      ]
    },
    {
      "cell_type": "code",
      "metadata": {
        "id": "EmkqBz_wgyz-",
        "colab_type": "code",
        "colab": {}
      },
      "source": [
        "data = pd.read_csv('data/heart.csv')"
      ],
      "execution_count": 0,
      "outputs": []
    },
    {
      "cell_type": "markdown",
      "metadata": {
        "id": "wMQGN0sJgy0A",
        "colab_type": "text"
      },
      "source": [
        "## Information sur le jeux de données"
      ]
    },
    {
      "cell_type": "markdown",
      "metadata": {
        "id": "FVsjRNpjgy0B",
        "colab_type": "text"
      },
      "source": [
        "Une fois notre jeux de données importé, nous pouvons obtenir des informations sur celui ci. <br>\n",
        "Dans un premier temps, nous pouvons visualiser un echantillon de données grace à la méthode **head()**"
      ]
    },
    {
      "cell_type": "code",
      "metadata": {
        "id": "T7MccWsTgy0C",
        "colab_type": "code",
        "colab": {
          "base_uri": "https://localhost:8080/",
          "height": 204
        },
        "outputId": "89261480-d9ed-4778-8be1-eb006e5c0827"
      },
      "source": [
        "data.head()"
      ],
      "execution_count": 5,
      "outputs": [
        {
          "output_type": "execute_result",
          "data": {
            "text/html": [
              "<div>\n",
              "<style scoped>\n",
              "    .dataframe tbody tr th:only-of-type {\n",
              "        vertical-align: middle;\n",
              "    }\n",
              "\n",
              "    .dataframe tbody tr th {\n",
              "        vertical-align: top;\n",
              "    }\n",
              "\n",
              "    .dataframe thead th {\n",
              "        text-align: right;\n",
              "    }\n",
              "</style>\n",
              "<table border=\"1\" class=\"dataframe\">\n",
              "  <thead>\n",
              "    <tr style=\"text-align: right;\">\n",
              "      <th></th>\n",
              "      <th>age</th>\n",
              "      <th>sex</th>\n",
              "      <th>cp</th>\n",
              "      <th>trestbps</th>\n",
              "      <th>chol</th>\n",
              "      <th>fbs</th>\n",
              "      <th>restecg</th>\n",
              "      <th>thalach</th>\n",
              "      <th>exang</th>\n",
              "      <th>oldpeak</th>\n",
              "      <th>slope</th>\n",
              "      <th>ca</th>\n",
              "      <th>thal</th>\n",
              "      <th>target</th>\n",
              "    </tr>\n",
              "  </thead>\n",
              "  <tbody>\n",
              "    <tr>\n",
              "      <th>0</th>\n",
              "      <td>63</td>\n",
              "      <td>1.0</td>\n",
              "      <td>3.0</td>\n",
              "      <td>145.0</td>\n",
              "      <td>233</td>\n",
              "      <td>1.0</td>\n",
              "      <td>0.0</td>\n",
              "      <td>150.0</td>\n",
              "      <td>0.0</td>\n",
              "      <td>2.3</td>\n",
              "      <td>0.0</td>\n",
              "      <td>0.0</td>\n",
              "      <td>1.0</td>\n",
              "      <td>1.0</td>\n",
              "    </tr>\n",
              "    <tr>\n",
              "      <th>1</th>\n",
              "      <td>37</td>\n",
              "      <td>1.0</td>\n",
              "      <td>2.0</td>\n",
              "      <td>130.0</td>\n",
              "      <td>250</td>\n",
              "      <td>0.0</td>\n",
              "      <td>1.0</td>\n",
              "      <td>187.0</td>\n",
              "      <td>0.0</td>\n",
              "      <td>3.5</td>\n",
              "      <td>0.0</td>\n",
              "      <td>0.0</td>\n",
              "      <td>2.0</td>\n",
              "      <td>1.0</td>\n",
              "    </tr>\n",
              "    <tr>\n",
              "      <th>2</th>\n",
              "      <td>41</td>\n",
              "      <td>0.0</td>\n",
              "      <td>1.0</td>\n",
              "      <td>130.0</td>\n",
              "      <td>204</td>\n",
              "      <td>0.0</td>\n",
              "      <td>0.0</td>\n",
              "      <td>172.0</td>\n",
              "      <td>0.0</td>\n",
              "      <td>1.4</td>\n",
              "      <td>2.0</td>\n",
              "      <td>0.0</td>\n",
              "      <td>2.0</td>\n",
              "      <td>1.0</td>\n",
              "    </tr>\n",
              "    <tr>\n",
              "      <th>3</th>\n",
              "      <td>56</td>\n",
              "      <td>1.0</td>\n",
              "      <td>1.0</td>\n",
              "      <td>120.0</td>\n",
              "      <td>236</td>\n",
              "      <td>0.0</td>\n",
              "      <td>1.0</td>\n",
              "      <td>178.0</td>\n",
              "      <td>0.0</td>\n",
              "      <td>0.8</td>\n",
              "      <td>2.0</td>\n",
              "      <td>0.0</td>\n",
              "      <td>2.0</td>\n",
              "      <td>1.0</td>\n",
              "    </tr>\n",
              "    <tr>\n",
              "      <th>4</th>\n",
              "      <td>57</td>\n",
              "      <td>0.0</td>\n",
              "      <td>0.0</td>\n",
              "      <td>120.0</td>\n",
              "      <td>354</td>\n",
              "      <td>0.0</td>\n",
              "      <td>1.0</td>\n",
              "      <td>163.0</td>\n",
              "      <td>1.0</td>\n",
              "      <td>0.6</td>\n",
              "      <td>2.0</td>\n",
              "      <td>0.0</td>\n",
              "      <td>2.0</td>\n",
              "      <td>1.0</td>\n",
              "    </tr>\n",
              "  </tbody>\n",
              "</table>\n",
              "</div>"
            ],
            "text/plain": [
              "   age  sex   cp  trestbps  chol  fbs  ...  exang  oldpeak  slope   ca  thal  target\n",
              "0   63  1.0  3.0     145.0   233  1.0  ...    0.0      2.3    0.0  0.0   1.0     1.0\n",
              "1   37  1.0  2.0     130.0   250  0.0  ...    0.0      3.5    0.0  0.0   2.0     1.0\n",
              "2   41  0.0  1.0     130.0   204  0.0  ...    0.0      1.4    2.0  0.0   2.0     1.0\n",
              "3   56  1.0  1.0     120.0   236  0.0  ...    0.0      0.8    2.0  0.0   2.0     1.0\n",
              "4   57  0.0  0.0     120.0   354  0.0  ...    1.0      0.6    2.0  0.0   2.0     1.0\n",
              "\n",
              "[5 rows x 14 columns]"
            ]
          },
          "metadata": {
            "tags": []
          },
          "execution_count": 5
        }
      ]
    },
    {
      "cell_type": "markdown",
      "metadata": {
        "id": "WwxJR4Fqgy0F",
        "colab_type": "text"
      },
      "source": [
        "Nous allons utiliser seuleument quelques variables pour illustrer les exemples. Nous allons concerver uniquement les variables age, sex, chol et target. <br>\n",
        "La variable target indique la présence d'une maladie cardiaque chez le patient"
      ]
    },
    {
      "cell_type": "code",
      "metadata": {
        "id": "faMXuJHkgy0G",
        "colab_type": "code",
        "colab": {}
      },
      "source": [
        "data = data[['age','sex','chol','target']]"
      ],
      "execution_count": 0,
      "outputs": []
    },
    {
      "cell_type": "markdown",
      "metadata": {
        "id": "M_VwyMcjgy0J",
        "colab_type": "text"
      },
      "source": [
        "Pour obtenir des information, sur les variables. Nous utilisons la méthode **info()**"
      ]
    },
    {
      "cell_type": "code",
      "metadata": {
        "id": "KqauPNWbgy0K",
        "colab_type": "code",
        "colab": {
          "base_uri": "https://localhost:8080/",
          "height": 170
        },
        "outputId": "d11b9c77-7916-4c86-db57-43549d3886af"
      },
      "source": [
        "data.info()"
      ],
      "execution_count": 7,
      "outputs": [
        {
          "output_type": "stream",
          "text": [
            "<class 'pandas.core.frame.DataFrame'>\n",
            "RangeIndex: 304 entries, 0 to 303\n",
            "Data columns (total 4 columns):\n",
            "age       304 non-null int64\n",
            "sex       303 non-null float64\n",
            "chol      304 non-null int64\n",
            "target    303 non-null float64\n",
            "dtypes: float64(2), int64(2)\n",
            "memory usage: 9.6 KB\n"
          ],
          "name": "stdout"
        }
      ]
    },
    {
      "cell_type": "markdown",
      "metadata": {
        "id": "OjPk3KG1gy0M",
        "colab_type": "text"
      },
      "source": [
        "Cette méthode permet de voir que notre jeux de données est composé de 304 lignes et de 4 varibales. <br>\n",
        "La plupard des variables sont de type numerique acec 13 variables de type int et 1 de type float"
      ]
    },
    {
      "cell_type": "markdown",
      "metadata": {
        "id": "7FbmyVewgy0N",
        "colab_type": "text"
      },
      "source": [
        "Nous pouvons aussi visualiser le nombre de valeurs distinct pour chacune des variables"
      ]
    },
    {
      "cell_type": "code",
      "metadata": {
        "id": "3en6aXqVgy0O",
        "colab_type": "code",
        "colab": {
          "base_uri": "https://localhost:8080/",
          "height": 102
        },
        "outputId": "30510ea2-dfed-4414-cac6-7b3a01d180f9"
      },
      "source": [
        "data.nunique()"
      ],
      "execution_count": 8,
      "outputs": [
        {
          "output_type": "execute_result",
          "data": {
            "text/plain": [
              "age        41\n",
              "sex         2\n",
              "chol      152\n",
              "target      2\n",
              "dtype: int64"
            ]
          },
          "metadata": {
            "tags": []
          },
          "execution_count": 8
        }
      ]
    },
    {
      "cell_type": "markdown",
      "metadata": {
        "id": "M3BoQETHgy0R",
        "colab_type": "text"
      },
      "source": [
        "Pour obtenir des informations sur la distribution des variables, nous pouvons utiliser les méthodes suivantes, bien que cela ne veux rien dire sur les variables sexe et targets puisse qu'il sagit de varibales qualitatives"
      ]
    },
    {
      "cell_type": "code",
      "metadata": {
        "id": "OQQSrydEgy0R",
        "colab_type": "code",
        "colab": {
          "base_uri": "https://localhost:8080/",
          "height": 297
        },
        "outputId": "478951a1-b2ba-468b-e8c5-f9e570c1d2aa"
      },
      "source": [
        "# Description du jeux de données\n",
        "data.describe()"
      ],
      "execution_count": 9,
      "outputs": [
        {
          "output_type": "execute_result",
          "data": {
            "text/html": [
              "<div>\n",
              "<style scoped>\n",
              "    .dataframe tbody tr th:only-of-type {\n",
              "        vertical-align: middle;\n",
              "    }\n",
              "\n",
              "    .dataframe tbody tr th {\n",
              "        vertical-align: top;\n",
              "    }\n",
              "\n",
              "    .dataframe thead th {\n",
              "        text-align: right;\n",
              "    }\n",
              "</style>\n",
              "<table border=\"1\" class=\"dataframe\">\n",
              "  <thead>\n",
              "    <tr style=\"text-align: right;\">\n",
              "      <th></th>\n",
              "      <th>age</th>\n",
              "      <th>sex</th>\n",
              "      <th>chol</th>\n",
              "      <th>target</th>\n",
              "    </tr>\n",
              "  </thead>\n",
              "  <tbody>\n",
              "    <tr>\n",
              "      <th>count</th>\n",
              "      <td>304.000000</td>\n",
              "      <td>303.000000</td>\n",
              "      <td>304.000000</td>\n",
              "      <td>303.000000</td>\n",
              "    </tr>\n",
              "    <tr>\n",
              "      <th>mean</th>\n",
              "      <td>54.401316</td>\n",
              "      <td>0.683168</td>\n",
              "      <td>246.263158</td>\n",
              "      <td>0.544554</td>\n",
              "    </tr>\n",
              "    <tr>\n",
              "      <th>std</th>\n",
              "      <td>9.087590</td>\n",
              "      <td>0.466011</td>\n",
              "      <td>51.745153</td>\n",
              "      <td>0.498835</td>\n",
              "    </tr>\n",
              "    <tr>\n",
              "      <th>min</th>\n",
              "      <td>29.000000</td>\n",
              "      <td>0.000000</td>\n",
              "      <td>126.000000</td>\n",
              "      <td>0.000000</td>\n",
              "    </tr>\n",
              "    <tr>\n",
              "      <th>25%</th>\n",
              "      <td>47.750000</td>\n",
              "      <td>0.000000</td>\n",
              "      <td>211.000000</td>\n",
              "      <td>0.000000</td>\n",
              "    </tr>\n",
              "    <tr>\n",
              "      <th>50%</th>\n",
              "      <td>55.500000</td>\n",
              "      <td>1.000000</td>\n",
              "      <td>240.500000</td>\n",
              "      <td>1.000000</td>\n",
              "    </tr>\n",
              "    <tr>\n",
              "      <th>75%</th>\n",
              "      <td>61.000000</td>\n",
              "      <td>1.000000</td>\n",
              "      <td>274.250000</td>\n",
              "      <td>1.000000</td>\n",
              "    </tr>\n",
              "    <tr>\n",
              "      <th>max</th>\n",
              "      <td>77.000000</td>\n",
              "      <td>1.000000</td>\n",
              "      <td>564.000000</td>\n",
              "      <td>1.000000</td>\n",
              "    </tr>\n",
              "  </tbody>\n",
              "</table>\n",
              "</div>"
            ],
            "text/plain": [
              "              age         sex        chol      target\n",
              "count  304.000000  303.000000  304.000000  303.000000\n",
              "mean    54.401316    0.683168  246.263158    0.544554\n",
              "std      9.087590    0.466011   51.745153    0.498835\n",
              "min     29.000000    0.000000  126.000000    0.000000\n",
              "25%     47.750000    0.000000  211.000000    0.000000\n",
              "50%     55.500000    1.000000  240.500000    1.000000\n",
              "75%     61.000000    1.000000  274.250000    1.000000\n",
              "max     77.000000    1.000000  564.000000    1.000000"
            ]
          },
          "metadata": {
            "tags": []
          },
          "execution_count": 9
        }
      ]
    },
    {
      "cell_type": "markdown",
      "metadata": {
        "id": "YwCXkIGhgy0U",
        "colab_type": "text"
      },
      "source": [
        "Ou encore"
      ]
    },
    {
      "cell_type": "code",
      "metadata": {
        "id": "qkJmFrj-gy0V",
        "colab_type": "code",
        "colab": {
          "base_uri": "https://localhost:8080/",
          "height": 119
        },
        "outputId": "a7b5e3ee-6996-4df7-8159-b5cb111c154a"
      },
      "source": [
        "print(data['age'].max())\n",
        "print(data['age'].min())\n",
        "print(data['age'].mean())\n",
        "print(data['age'].median())\n",
        "print(data['age'].count())\n",
        "print(data['age'].std())"
      ],
      "execution_count": 11,
      "outputs": [
        {
          "output_type": "stream",
          "text": [
            "77\n",
            "29\n",
            "54.401315789473685\n",
            "55.5\n",
            "304\n",
            "9.087589817549375\n"
          ],
          "name": "stdout"
        }
      ]
    },
    {
      "cell_type": "markdown",
      "metadata": {
        "id": "VAyUOtiigy0Y",
        "colab_type": "text"
      },
      "source": [
        "Pour obtenir la matrice des correlations, nous pouvons utiliser la méthode corr() qui utilise la valeur du test de pearson par default. C'est pour cette raison que nous sélectionnons uniquement nos variables quantitative.  "
      ]
    },
    {
      "cell_type": "code",
      "metadata": {
        "id": "xFyvUqohgy0Z",
        "colab_type": "code",
        "colab": {
          "base_uri": "https://localhost:8080/",
          "height": 111
        },
        "outputId": "9cfb71e5-1998-4065-e299-8ad3b13f0698"
      },
      "source": [
        "data[['age','chol']].corr()"
      ],
      "execution_count": 12,
      "outputs": [
        {
          "output_type": "execute_result",
          "data": {
            "text/html": [
              "<div>\n",
              "<style scoped>\n",
              "    .dataframe tbody tr th:only-of-type {\n",
              "        vertical-align: middle;\n",
              "    }\n",
              "\n",
              "    .dataframe tbody tr th {\n",
              "        vertical-align: top;\n",
              "    }\n",
              "\n",
              "    .dataframe thead th {\n",
              "        text-align: right;\n",
              "    }\n",
              "</style>\n",
              "<table border=\"1\" class=\"dataframe\">\n",
              "  <thead>\n",
              "    <tr style=\"text-align: right;\">\n",
              "      <th></th>\n",
              "      <th>age</th>\n",
              "      <th>chol</th>\n",
              "    </tr>\n",
              "  </thead>\n",
              "  <tbody>\n",
              "    <tr>\n",
              "      <th>age</th>\n",
              "      <td>1.000000</td>\n",
              "      <td>0.213177</td>\n",
              "    </tr>\n",
              "    <tr>\n",
              "      <th>chol</th>\n",
              "      <td>0.213177</td>\n",
              "      <td>1.000000</td>\n",
              "    </tr>\n",
              "  </tbody>\n",
              "</table>\n",
              "</div>"
            ],
            "text/plain": [
              "           age      chol\n",
              "age   1.000000  0.213177\n",
              "chol  0.213177  1.000000"
            ]
          },
          "metadata": {
            "tags": []
          },
          "execution_count": 12
        }
      ]
    },
    {
      "cell_type": "markdown",
      "metadata": {
        "id": "_122r8Zmgy0c",
        "colab_type": "text"
      },
      "source": [
        "Nous pouvons aussi réaliser des agrégations comme dans l'exemple suivant"
      ]
    },
    {
      "cell_type": "code",
      "metadata": {
        "id": "SuD4fNaFgy0d",
        "colab_type": "code",
        "colab": {
          "base_uri": "https://localhost:8080/",
          "height": 68
        },
        "outputId": "ef53f592-f881-4eea-e1ef-64b24762c7c5"
      },
      "source": [
        "data['target'].value_counts()"
      ],
      "execution_count": 13,
      "outputs": [
        {
          "output_type": "execute_result",
          "data": {
            "text/plain": [
              "1.0    165\n",
              "0.0    138\n",
              "Name: target, dtype: int64"
            ]
          },
          "metadata": {
            "tags": []
          },
          "execution_count": 13
        }
      ]
    },
    {
      "cell_type": "markdown",
      "metadata": {
        "id": "Bu3aYXX1gy0g",
        "colab_type": "text"
      },
      "source": [
        "On peut verifier la présence de valeur manqauntes"
      ]
    },
    {
      "cell_type": "code",
      "metadata": {
        "id": "Z-W0W0iUgy0h",
        "colab_type": "code",
        "colab": {
          "base_uri": "https://localhost:8080/",
          "height": 102
        },
        "outputId": "d211b857-5ea1-4c11-a5dc-25a9f281abf0"
      },
      "source": [
        "data.isnull().sum()"
      ],
      "execution_count": 14,
      "outputs": [
        {
          "output_type": "execute_result",
          "data": {
            "text/plain": [
              "age       0\n",
              "sex       1\n",
              "chol      0\n",
              "target    1\n",
              "dtype: int64"
            ]
          },
          "metadata": {
            "tags": []
          },
          "execution_count": 14
        }
      ]
    },
    {
      "cell_type": "markdown",
      "metadata": {
        "id": "MRPjrpckgy0k",
        "colab_type": "text"
      },
      "source": [
        "## Manipulation de données"
      ]
    },
    {
      "cell_type": "markdown",
      "metadata": {
        "id": "X9fcTwR_gy0l",
        "colab_type": "text"
      },
      "source": [
        "Suppression des valeurs manquantes"
      ]
    },
    {
      "cell_type": "code",
      "metadata": {
        "id": "9tSSExnsgy0m",
        "colab_type": "code",
        "colab": {}
      },
      "source": [
        "data.dropna(inplace=True)"
      ],
      "execution_count": 0,
      "outputs": []
    },
    {
      "cell_type": "markdown",
      "metadata": {
        "id": "NYuL6wxEgy0p",
        "colab_type": "text"
      },
      "source": [
        "Nous aurions aussi pu remplacer les valeurs manqauntes"
      ]
    },
    {
      "cell_type": "code",
      "metadata": {
        "id": "iQ2OWmOTgy0r",
        "colab_type": "code",
        "colab": {}
      },
      "source": [
        "data['age'] = data['age'].fillna(data['age'].mean())"
      ],
      "execution_count": 0,
      "outputs": []
    },
    {
      "cell_type": "markdown",
      "metadata": {
        "id": "Gzf19spQgy0w",
        "colab_type": "text"
      },
      "source": [
        "Les variables sex et target ne contiennent que 2 modalités codé sous en entier. Nous allons transfomer ces deux variables pour qu'elle soit plus parlante"
      ]
    },
    {
      "cell_type": "code",
      "metadata": {
        "id": "LU1M7934gy0y",
        "colab_type": "code",
        "colab": {
          "base_uri": "https://localhost:8080/",
          "height": 204
        },
        "outputId": "4f819b62-822b-4605-b895-2ed48a179cef"
      },
      "source": [
        "def rec_sex(valeur):\n",
        "    if valeur == 1:\n",
        "        return(\"Homme\")\n",
        "    else :\n",
        "        return(\"Femme\")\n",
        "    \n",
        "data['sex'] = data.sex.apply(rec_sex)\n",
        "\n",
        "data.head()"
      ],
      "execution_count": 17,
      "outputs": [
        {
          "output_type": "execute_result",
          "data": {
            "text/html": [
              "<div>\n",
              "<style scoped>\n",
              "    .dataframe tbody tr th:only-of-type {\n",
              "        vertical-align: middle;\n",
              "    }\n",
              "\n",
              "    .dataframe tbody tr th {\n",
              "        vertical-align: top;\n",
              "    }\n",
              "\n",
              "    .dataframe thead th {\n",
              "        text-align: right;\n",
              "    }\n",
              "</style>\n",
              "<table border=\"1\" class=\"dataframe\">\n",
              "  <thead>\n",
              "    <tr style=\"text-align: right;\">\n",
              "      <th></th>\n",
              "      <th>age</th>\n",
              "      <th>sex</th>\n",
              "      <th>chol</th>\n",
              "      <th>target</th>\n",
              "    </tr>\n",
              "  </thead>\n",
              "  <tbody>\n",
              "    <tr>\n",
              "      <th>0</th>\n",
              "      <td>63</td>\n",
              "      <td>Homme</td>\n",
              "      <td>233</td>\n",
              "      <td>1.0</td>\n",
              "    </tr>\n",
              "    <tr>\n",
              "      <th>1</th>\n",
              "      <td>37</td>\n",
              "      <td>Homme</td>\n",
              "      <td>250</td>\n",
              "      <td>1.0</td>\n",
              "    </tr>\n",
              "    <tr>\n",
              "      <th>2</th>\n",
              "      <td>41</td>\n",
              "      <td>Femme</td>\n",
              "      <td>204</td>\n",
              "      <td>1.0</td>\n",
              "    </tr>\n",
              "    <tr>\n",
              "      <th>3</th>\n",
              "      <td>56</td>\n",
              "      <td>Homme</td>\n",
              "      <td>236</td>\n",
              "      <td>1.0</td>\n",
              "    </tr>\n",
              "    <tr>\n",
              "      <th>4</th>\n",
              "      <td>57</td>\n",
              "      <td>Femme</td>\n",
              "      <td>354</td>\n",
              "      <td>1.0</td>\n",
              "    </tr>\n",
              "  </tbody>\n",
              "</table>\n",
              "</div>"
            ],
            "text/plain": [
              "   age    sex  chol  target\n",
              "0   63  Homme   233     1.0\n",
              "1   37  Homme   250     1.0\n",
              "2   41  Femme   204     1.0\n",
              "3   56  Homme   236     1.0\n",
              "4   57  Femme   354     1.0"
            ]
          },
          "metadata": {
            "tags": []
          },
          "execution_count": 17
        }
      ]
    },
    {
      "cell_type": "markdown",
      "metadata": {
        "id": "OezzWBOUgy03",
        "colab_type": "text"
      },
      "source": [
        "Pour changer le format d'une variable"
      ]
    },
    {
      "cell_type": "code",
      "metadata": {
        "id": "r20KO_7bgy04",
        "colab_type": "code",
        "colab": {}
      },
      "source": [
        "data['target'] = data.target.astype(int)"
      ],
      "execution_count": 0,
      "outputs": []
    },
    {
      "cell_type": "markdown",
      "metadata": {
        "id": "yWqnBjd8gy06",
        "colab_type": "text"
      },
      "source": [
        "On peut concaténer des fichiers en ligne ou en colonne"
      ]
    },
    {
      "cell_type": "code",
      "metadata": {
        "id": "-qwqAIsygy07",
        "colab_type": "code",
        "colab": {
          "base_uri": "https://localhost:8080/",
          "height": 221
        },
        "outputId": "e10c96cb-0ed8-4851-ea33-c560b4ce3a69"
      },
      "source": [
        "data_concat = pd.concat([data,data], axis = 0)\n",
        "print(\"shape = \",data_concat.shape)\n",
        "data_concat.head()"
      ],
      "execution_count": 19,
      "outputs": [
        {
          "output_type": "stream",
          "text": [
            "shape =  (606, 4)\n"
          ],
          "name": "stdout"
        },
        {
          "output_type": "execute_result",
          "data": {
            "text/html": [
              "<div>\n",
              "<style scoped>\n",
              "    .dataframe tbody tr th:only-of-type {\n",
              "        vertical-align: middle;\n",
              "    }\n",
              "\n",
              "    .dataframe tbody tr th {\n",
              "        vertical-align: top;\n",
              "    }\n",
              "\n",
              "    .dataframe thead th {\n",
              "        text-align: right;\n",
              "    }\n",
              "</style>\n",
              "<table border=\"1\" class=\"dataframe\">\n",
              "  <thead>\n",
              "    <tr style=\"text-align: right;\">\n",
              "      <th></th>\n",
              "      <th>age</th>\n",
              "      <th>sex</th>\n",
              "      <th>chol</th>\n",
              "      <th>target</th>\n",
              "    </tr>\n",
              "  </thead>\n",
              "  <tbody>\n",
              "    <tr>\n",
              "      <th>0</th>\n",
              "      <td>63</td>\n",
              "      <td>Homme</td>\n",
              "      <td>233</td>\n",
              "      <td>1</td>\n",
              "    </tr>\n",
              "    <tr>\n",
              "      <th>1</th>\n",
              "      <td>37</td>\n",
              "      <td>Homme</td>\n",
              "      <td>250</td>\n",
              "      <td>1</td>\n",
              "    </tr>\n",
              "    <tr>\n",
              "      <th>2</th>\n",
              "      <td>41</td>\n",
              "      <td>Femme</td>\n",
              "      <td>204</td>\n",
              "      <td>1</td>\n",
              "    </tr>\n",
              "    <tr>\n",
              "      <th>3</th>\n",
              "      <td>56</td>\n",
              "      <td>Homme</td>\n",
              "      <td>236</td>\n",
              "      <td>1</td>\n",
              "    </tr>\n",
              "    <tr>\n",
              "      <th>4</th>\n",
              "      <td>57</td>\n",
              "      <td>Femme</td>\n",
              "      <td>354</td>\n",
              "      <td>1</td>\n",
              "    </tr>\n",
              "  </tbody>\n",
              "</table>\n",
              "</div>"
            ],
            "text/plain": [
              "   age    sex  chol  target\n",
              "0   63  Homme   233       1\n",
              "1   37  Homme   250       1\n",
              "2   41  Femme   204       1\n",
              "3   56  Homme   236       1\n",
              "4   57  Femme   354       1"
            ]
          },
          "metadata": {
            "tags": []
          },
          "execution_count": 19
        }
      ]
    },
    {
      "cell_type": "code",
      "metadata": {
        "id": "sse_GosMgy0-",
        "colab_type": "code",
        "colab": {
          "base_uri": "https://localhost:8080/",
          "height": 221
        },
        "outputId": "91868da2-88bc-4a5c-a1f6-30cdb275f068"
      },
      "source": [
        "data_concat = pd.concat([data,data], axis = 1)\n",
        "print(\"shape = \",data_concat.shape)\n",
        "data_concat.head()"
      ],
      "execution_count": 20,
      "outputs": [
        {
          "output_type": "stream",
          "text": [
            "shape =  (303, 8)\n"
          ],
          "name": "stdout"
        },
        {
          "output_type": "execute_result",
          "data": {
            "text/html": [
              "<div>\n",
              "<style scoped>\n",
              "    .dataframe tbody tr th:only-of-type {\n",
              "        vertical-align: middle;\n",
              "    }\n",
              "\n",
              "    .dataframe tbody tr th {\n",
              "        vertical-align: top;\n",
              "    }\n",
              "\n",
              "    .dataframe thead th {\n",
              "        text-align: right;\n",
              "    }\n",
              "</style>\n",
              "<table border=\"1\" class=\"dataframe\">\n",
              "  <thead>\n",
              "    <tr style=\"text-align: right;\">\n",
              "      <th></th>\n",
              "      <th>age</th>\n",
              "      <th>sex</th>\n",
              "      <th>chol</th>\n",
              "      <th>target</th>\n",
              "      <th>age</th>\n",
              "      <th>sex</th>\n",
              "      <th>chol</th>\n",
              "      <th>target</th>\n",
              "    </tr>\n",
              "  </thead>\n",
              "  <tbody>\n",
              "    <tr>\n",
              "      <th>0</th>\n",
              "      <td>63</td>\n",
              "      <td>Homme</td>\n",
              "      <td>233</td>\n",
              "      <td>1</td>\n",
              "      <td>63</td>\n",
              "      <td>Homme</td>\n",
              "      <td>233</td>\n",
              "      <td>1</td>\n",
              "    </tr>\n",
              "    <tr>\n",
              "      <th>1</th>\n",
              "      <td>37</td>\n",
              "      <td>Homme</td>\n",
              "      <td>250</td>\n",
              "      <td>1</td>\n",
              "      <td>37</td>\n",
              "      <td>Homme</td>\n",
              "      <td>250</td>\n",
              "      <td>1</td>\n",
              "    </tr>\n",
              "    <tr>\n",
              "      <th>2</th>\n",
              "      <td>41</td>\n",
              "      <td>Femme</td>\n",
              "      <td>204</td>\n",
              "      <td>1</td>\n",
              "      <td>41</td>\n",
              "      <td>Femme</td>\n",
              "      <td>204</td>\n",
              "      <td>1</td>\n",
              "    </tr>\n",
              "    <tr>\n",
              "      <th>3</th>\n",
              "      <td>56</td>\n",
              "      <td>Homme</td>\n",
              "      <td>236</td>\n",
              "      <td>1</td>\n",
              "      <td>56</td>\n",
              "      <td>Homme</td>\n",
              "      <td>236</td>\n",
              "      <td>1</td>\n",
              "    </tr>\n",
              "    <tr>\n",
              "      <th>4</th>\n",
              "      <td>57</td>\n",
              "      <td>Femme</td>\n",
              "      <td>354</td>\n",
              "      <td>1</td>\n",
              "      <td>57</td>\n",
              "      <td>Femme</td>\n",
              "      <td>354</td>\n",
              "      <td>1</td>\n",
              "    </tr>\n",
              "  </tbody>\n",
              "</table>\n",
              "</div>"
            ],
            "text/plain": [
              "   age    sex  chol  target  age    sex  chol  target\n",
              "0   63  Homme   233       1   63  Homme   233       1\n",
              "1   37  Homme   250       1   37  Homme   250       1\n",
              "2   41  Femme   204       1   41  Femme   204       1\n",
              "3   56  Homme   236       1   56  Homme   236       1\n",
              "4   57  Femme   354       1   57  Femme   354       1"
            ]
          },
          "metadata": {
            "tags": []
          },
          "execution_count": 20
        }
      ]
    },
    {
      "cell_type": "markdown",
      "metadata": {
        "id": "mojH9b15gy1B",
        "colab_type": "text"
      },
      "source": [
        "On peut réaliser des jointures entre dataframe par exemple nous allons remplacer la variable target par \"présence\" ou \"abscence\" avec une jointure"
      ]
    },
    {
      "cell_type": "code",
      "metadata": {
        "id": "FIHfIsA8gy1C",
        "colab_type": "code",
        "colab": {
          "base_uri": "https://localhost:8080/",
          "height": 204
        },
        "outputId": "0045e366-7ea6-43a6-cad9-4422dad704f3"
      },
      "source": [
        "data_merge = pd.DataFrame([[1, 'présence'], [0, 'abscence']], columns = ['target', 'maladie_cardiaque'])\n",
        "\n",
        "data = pd.merge(data,data_merge, how='inner', on='target')\n",
        "data.head()"
      ],
      "execution_count": 21,
      "outputs": [
        {
          "output_type": "execute_result",
          "data": {
            "text/html": [
              "<div>\n",
              "<style scoped>\n",
              "    .dataframe tbody tr th:only-of-type {\n",
              "        vertical-align: middle;\n",
              "    }\n",
              "\n",
              "    .dataframe tbody tr th {\n",
              "        vertical-align: top;\n",
              "    }\n",
              "\n",
              "    .dataframe thead th {\n",
              "        text-align: right;\n",
              "    }\n",
              "</style>\n",
              "<table border=\"1\" class=\"dataframe\">\n",
              "  <thead>\n",
              "    <tr style=\"text-align: right;\">\n",
              "      <th></th>\n",
              "      <th>age</th>\n",
              "      <th>sex</th>\n",
              "      <th>chol</th>\n",
              "      <th>target</th>\n",
              "      <th>maladie_cardiaque</th>\n",
              "    </tr>\n",
              "  </thead>\n",
              "  <tbody>\n",
              "    <tr>\n",
              "      <th>0</th>\n",
              "      <td>63</td>\n",
              "      <td>Homme</td>\n",
              "      <td>233</td>\n",
              "      <td>1</td>\n",
              "      <td>présence</td>\n",
              "    </tr>\n",
              "    <tr>\n",
              "      <th>1</th>\n",
              "      <td>37</td>\n",
              "      <td>Homme</td>\n",
              "      <td>250</td>\n",
              "      <td>1</td>\n",
              "      <td>présence</td>\n",
              "    </tr>\n",
              "    <tr>\n",
              "      <th>2</th>\n",
              "      <td>41</td>\n",
              "      <td>Femme</td>\n",
              "      <td>204</td>\n",
              "      <td>1</td>\n",
              "      <td>présence</td>\n",
              "    </tr>\n",
              "    <tr>\n",
              "      <th>3</th>\n",
              "      <td>56</td>\n",
              "      <td>Homme</td>\n",
              "      <td>236</td>\n",
              "      <td>1</td>\n",
              "      <td>présence</td>\n",
              "    </tr>\n",
              "    <tr>\n",
              "      <th>4</th>\n",
              "      <td>57</td>\n",
              "      <td>Femme</td>\n",
              "      <td>354</td>\n",
              "      <td>1</td>\n",
              "      <td>présence</td>\n",
              "    </tr>\n",
              "  </tbody>\n",
              "</table>\n",
              "</div>"
            ],
            "text/plain": [
              "   age    sex  chol  target maladie_cardiaque\n",
              "0   63  Homme   233       1          présence\n",
              "1   37  Homme   250       1          présence\n",
              "2   41  Femme   204       1          présence\n",
              "3   56  Homme   236       1          présence\n",
              "4   57  Femme   354       1          présence"
            ]
          },
          "metadata": {
            "tags": []
          },
          "execution_count": 21
        }
      ]
    },
    {
      "cell_type": "markdown",
      "metadata": {
        "id": "8IWYdHD1gy1F",
        "colab_type": "text"
      },
      "source": [
        "Pour renommer des variables"
      ]
    },
    {
      "cell_type": "code",
      "metadata": {
        "id": "-MQJ-W4Ogy1F",
        "colab_type": "code",
        "colab": {
          "base_uri": "https://localhost:8080/",
          "height": 204
        },
        "outputId": "3e03360b-4d0f-45ef-a1a2-bf751fd3f20b"
      },
      "source": [
        "data.rename(columns={'chol':'tx_cholesterol'}, inplace = True)\n",
        "data.head()"
      ],
      "execution_count": 22,
      "outputs": [
        {
          "output_type": "execute_result",
          "data": {
            "text/html": [
              "<div>\n",
              "<style scoped>\n",
              "    .dataframe tbody tr th:only-of-type {\n",
              "        vertical-align: middle;\n",
              "    }\n",
              "\n",
              "    .dataframe tbody tr th {\n",
              "        vertical-align: top;\n",
              "    }\n",
              "\n",
              "    .dataframe thead th {\n",
              "        text-align: right;\n",
              "    }\n",
              "</style>\n",
              "<table border=\"1\" class=\"dataframe\">\n",
              "  <thead>\n",
              "    <tr style=\"text-align: right;\">\n",
              "      <th></th>\n",
              "      <th>age</th>\n",
              "      <th>sex</th>\n",
              "      <th>tx_cholesterol</th>\n",
              "      <th>target</th>\n",
              "      <th>maladie_cardiaque</th>\n",
              "    </tr>\n",
              "  </thead>\n",
              "  <tbody>\n",
              "    <tr>\n",
              "      <th>0</th>\n",
              "      <td>63</td>\n",
              "      <td>Homme</td>\n",
              "      <td>233</td>\n",
              "      <td>1</td>\n",
              "      <td>présence</td>\n",
              "    </tr>\n",
              "    <tr>\n",
              "      <th>1</th>\n",
              "      <td>37</td>\n",
              "      <td>Homme</td>\n",
              "      <td>250</td>\n",
              "      <td>1</td>\n",
              "      <td>présence</td>\n",
              "    </tr>\n",
              "    <tr>\n",
              "      <th>2</th>\n",
              "      <td>41</td>\n",
              "      <td>Femme</td>\n",
              "      <td>204</td>\n",
              "      <td>1</td>\n",
              "      <td>présence</td>\n",
              "    </tr>\n",
              "    <tr>\n",
              "      <th>3</th>\n",
              "      <td>56</td>\n",
              "      <td>Homme</td>\n",
              "      <td>236</td>\n",
              "      <td>1</td>\n",
              "      <td>présence</td>\n",
              "    </tr>\n",
              "    <tr>\n",
              "      <th>4</th>\n",
              "      <td>57</td>\n",
              "      <td>Femme</td>\n",
              "      <td>354</td>\n",
              "      <td>1</td>\n",
              "      <td>présence</td>\n",
              "    </tr>\n",
              "  </tbody>\n",
              "</table>\n",
              "</div>"
            ],
            "text/plain": [
              "   age    sex  tx_cholesterol  target maladie_cardiaque\n",
              "0   63  Homme             233       1          présence\n",
              "1   37  Homme             250       1          présence\n",
              "2   41  Femme             204       1          présence\n",
              "3   56  Homme             236       1          présence\n",
              "4   57  Femme             354       1          présence"
            ]
          },
          "metadata": {
            "tags": []
          },
          "execution_count": 22
        }
      ]
    },
    {
      "cell_type": "markdown",
      "metadata": {
        "id": "A3zblXcKgy1I",
        "colab_type": "text"
      },
      "source": [
        "## Agrégation"
      ]
    },
    {
      "cell_type": "markdown",
      "metadata": {
        "id": "-Dz4y6Eeo7KS",
        "colab_type": "text"
      },
      "source": [
        "On peut réaliser differents types d'aggrégations avec pandas."
      ]
    },
    {
      "cell_type": "code",
      "metadata": {
        "id": "V0uzNMPNhMMY",
        "colab_type": "code",
        "colab": {
          "base_uri": "https://localhost:8080/",
          "height": 68
        },
        "outputId": "25fc0a8c-0ab5-468c-9f65-18496a9e0f7e"
      },
      "source": [
        "# Pour avoir la Fréquence des modalités d'une variable\n",
        "data.maladie_cardiaque.value_counts(normalize = True)"
      ],
      "execution_count": 34,
      "outputs": [
        {
          "output_type": "execute_result",
          "data": {
            "text/plain": [
              "présence    0.544554\n",
              "abscence    0.455446\n",
              "Name: maladie_cardiaque, dtype: float64"
            ]
          },
          "metadata": {
            "tags": []
          },
          "execution_count": 34
        }
      ]
    },
    {
      "cell_type": "code",
      "metadata": {
        "id": "2X5ULu3tgy1J",
        "colab_type": "code",
        "colab": {
          "base_uri": "https://localhost:8080/",
          "height": 142
        },
        "outputId": "5d7480c7-38e9-4872-ac64-f57347de9805"
      },
      "source": [
        "# Moyenne par groupes\n",
        "data.groupby(['maladie_cardiaque']).mean()"
      ],
      "execution_count": 28,
      "outputs": [
        {
          "output_type": "execute_result",
          "data": {
            "text/html": [
              "<div>\n",
              "<style scoped>\n",
              "    .dataframe tbody tr th:only-of-type {\n",
              "        vertical-align: middle;\n",
              "    }\n",
              "\n",
              "    .dataframe tbody tr th {\n",
              "        vertical-align: top;\n",
              "    }\n",
              "\n",
              "    .dataframe thead th {\n",
              "        text-align: right;\n",
              "    }\n",
              "</style>\n",
              "<table border=\"1\" class=\"dataframe\">\n",
              "  <thead>\n",
              "    <tr style=\"text-align: right;\">\n",
              "      <th></th>\n",
              "      <th>age</th>\n",
              "      <th>tx_cholesterol</th>\n",
              "      <th>target</th>\n",
              "    </tr>\n",
              "    <tr>\n",
              "      <th>maladie_cardiaque</th>\n",
              "      <th></th>\n",
              "      <th></th>\n",
              "      <th></th>\n",
              "    </tr>\n",
              "  </thead>\n",
              "  <tbody>\n",
              "    <tr>\n",
              "      <th>abscence</th>\n",
              "      <td>56.601449</td>\n",
              "      <td>251.086957</td>\n",
              "      <td>0.0</td>\n",
              "    </tr>\n",
              "    <tr>\n",
              "      <th>présence</th>\n",
              "      <td>52.496970</td>\n",
              "      <td>242.230303</td>\n",
              "      <td>1.0</td>\n",
              "    </tr>\n",
              "  </tbody>\n",
              "</table>\n",
              "</div>"
            ],
            "text/plain": [
              "                         age  tx_cholesterol  target\n",
              "maladie_cardiaque                                   \n",
              "abscence           56.601449      251.086957     0.0\n",
              "présence           52.496970      242.230303     1.0"
            ]
          },
          "metadata": {
            "tags": []
          },
          "execution_count": 28
        }
      ]
    },
    {
      "cell_type": "code",
      "metadata": {
        "id": "PlAsijlYgy1L",
        "colab_type": "code",
        "colab": {
          "base_uri": "https://localhost:8080/",
          "height": 204
        },
        "outputId": "bab496d9-49d0-4e6a-f01d-e68d25b6b7d2"
      },
      "source": [
        "# Moyenne par groupes\n",
        "data.groupby(['sex','target']).mean()"
      ],
      "execution_count": 29,
      "outputs": [
        {
          "output_type": "execute_result",
          "data": {
            "text/html": [
              "<div>\n",
              "<style scoped>\n",
              "    .dataframe tbody tr th:only-of-type {\n",
              "        vertical-align: middle;\n",
              "    }\n",
              "\n",
              "    .dataframe tbody tr th {\n",
              "        vertical-align: top;\n",
              "    }\n",
              "\n",
              "    .dataframe thead th {\n",
              "        text-align: right;\n",
              "    }\n",
              "</style>\n",
              "<table border=\"1\" class=\"dataframe\">\n",
              "  <thead>\n",
              "    <tr style=\"text-align: right;\">\n",
              "      <th></th>\n",
              "      <th></th>\n",
              "      <th>age</th>\n",
              "      <th>tx_cholesterol</th>\n",
              "    </tr>\n",
              "    <tr>\n",
              "      <th>sex</th>\n",
              "      <th>target</th>\n",
              "      <th></th>\n",
              "      <th></th>\n",
              "    </tr>\n",
              "  </thead>\n",
              "  <tbody>\n",
              "    <tr>\n",
              "      <th rowspan=\"2\" valign=\"top\">Femme</th>\n",
              "      <th>0</th>\n",
              "      <td>59.041667</td>\n",
              "      <td>274.958333</td>\n",
              "    </tr>\n",
              "    <tr>\n",
              "      <th>1</th>\n",
              "      <td>54.555556</td>\n",
              "      <td>256.750000</td>\n",
              "    </tr>\n",
              "    <tr>\n",
              "      <th rowspan=\"2\" valign=\"top\">Homme</th>\n",
              "      <th>0</th>\n",
              "      <td>56.087719</td>\n",
              "      <td>246.061404</td>\n",
              "    </tr>\n",
              "    <tr>\n",
              "      <th>1</th>\n",
              "      <td>50.903226</td>\n",
              "      <td>230.989247</td>\n",
              "    </tr>\n",
              "  </tbody>\n",
              "</table>\n",
              "</div>"
            ],
            "text/plain": [
              "                    age  tx_cholesterol\n",
              "sex   target                           \n",
              "Femme 0       59.041667      274.958333\n",
              "      1       54.555556      256.750000\n",
              "Homme 0       56.087719      246.061404\n",
              "      1       50.903226      230.989247"
            ]
          },
          "metadata": {
            "tags": []
          },
          "execution_count": 29
        }
      ]
    },
    {
      "cell_type": "code",
      "metadata": {
        "id": "_F7vmi_zgy1O",
        "colab_type": "code",
        "colab": {
          "base_uri": "https://localhost:8080/",
          "height": 204
        },
        "outputId": "e326ef50-a41b-4e71-81a2-81b0321d6004"
      },
      "source": [
        "# Trier une dataframe\n",
        "data.sort_values('age').head()"
      ],
      "execution_count": 30,
      "outputs": [
        {
          "output_type": "execute_result",
          "data": {
            "text/html": [
              "<div>\n",
              "<style scoped>\n",
              "    .dataframe tbody tr th:only-of-type {\n",
              "        vertical-align: middle;\n",
              "    }\n",
              "\n",
              "    .dataframe tbody tr th {\n",
              "        vertical-align: top;\n",
              "    }\n",
              "\n",
              "    .dataframe thead th {\n",
              "        text-align: right;\n",
              "    }\n",
              "</style>\n",
              "<table border=\"1\" class=\"dataframe\">\n",
              "  <thead>\n",
              "    <tr style=\"text-align: right;\">\n",
              "      <th></th>\n",
              "      <th>age</th>\n",
              "      <th>sex</th>\n",
              "      <th>tx_cholesterol</th>\n",
              "      <th>target</th>\n",
              "      <th>maladie_cardiaque</th>\n",
              "    </tr>\n",
              "  </thead>\n",
              "  <tbody>\n",
              "    <tr>\n",
              "      <th>72</th>\n",
              "      <td>29</td>\n",
              "      <td>Homme</td>\n",
              "      <td>204</td>\n",
              "      <td>1</td>\n",
              "      <td>présence</td>\n",
              "    </tr>\n",
              "    <tr>\n",
              "      <th>58</th>\n",
              "      <td>34</td>\n",
              "      <td>Homme</td>\n",
              "      <td>182</td>\n",
              "      <td>1</td>\n",
              "      <td>présence</td>\n",
              "    </tr>\n",
              "    <tr>\n",
              "      <th>125</th>\n",
              "      <td>34</td>\n",
              "      <td>Femme</td>\n",
              "      <td>210</td>\n",
              "      <td>1</td>\n",
              "      <td>présence</td>\n",
              "    </tr>\n",
              "    <tr>\n",
              "      <th>239</th>\n",
              "      <td>35</td>\n",
              "      <td>Homme</td>\n",
              "      <td>282</td>\n",
              "      <td>0</td>\n",
              "      <td>abscence</td>\n",
              "    </tr>\n",
              "    <tr>\n",
              "      <th>65</th>\n",
              "      <td>35</td>\n",
              "      <td>Femme</td>\n",
              "      <td>183</td>\n",
              "      <td>1</td>\n",
              "      <td>présence</td>\n",
              "    </tr>\n",
              "  </tbody>\n",
              "</table>\n",
              "</div>"
            ],
            "text/plain": [
              "     age    sex  tx_cholesterol  target maladie_cardiaque\n",
              "72    29  Homme             204       1          présence\n",
              "58    34  Homme             182       1          présence\n",
              "125   34  Femme             210       1          présence\n",
              "239   35  Homme             282       0          abscence\n",
              "65    35  Femme             183       1          présence"
            ]
          },
          "metadata": {
            "tags": []
          },
          "execution_count": 30
        }
      ]
    },
    {
      "cell_type": "markdown",
      "metadata": {
        "id": "N-j_sPgjpOjJ",
        "colab_type": "text"
      },
      "source": [
        "Une fois notre prétairement réalisé, nous pouvons exporter notre table de résulats dans differents formats. <br>\n",
        "Voici un exemple d'export en csv."
      ]
    },
    {
      "cell_type": "code",
      "metadata": {
        "id": "z3Pk_StSgy1S",
        "colab_type": "code",
        "colab": {}
      },
      "source": [
        "data[['age','sex','tx_cholesterol','maladie_cardiaque']].to_csv('data/data_clean.csv',index = False)"
      ],
      "execution_count": 0,
      "outputs": []
    },
    {
      "cell_type": "markdown",
      "metadata": {
        "id": "R7wyL56-g3De",
        "colab_type": "text"
      },
      "source": [
        "### Autres fonctions utiles"
      ]
    },
    {
      "cell_type": "code",
      "metadata": {
        "id": "0geGE04cg7bu",
        "colab_type": "code",
        "colab": {}
      },
      "source": [
        "# Transformer un nombre de seconde en datetime :\n",
        "pd.to_datetime(variable_second, unit='s')"
      ],
      "execution_count": 0,
      "outputs": []
    }
  ]
}