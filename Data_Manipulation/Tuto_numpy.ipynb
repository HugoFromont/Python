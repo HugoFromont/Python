{
  "nbformat": 4,
  "nbformat_minor": 0,
  "metadata": {
    "kernelspec": {
      "display_name": "Python 3",
      "language": "python",
      "name": "python3"
    },
    "language_info": {
      "codemirror_mode": {
        "name": "ipython",
        "version": 3
      },
      "file_extension": ".py",
      "mimetype": "text/x-python",
      "name": "python",
      "nbconvert_exporter": "python",
      "pygments_lexer": "ipython3",
      "version": "3.7.0"
    },
    "colab": {
      "name": "Tuto_numpy.ipynb",
      "provenance": [],
      "collapsed_sections": []
    }
  },
  "cells": [
    {
      "cell_type": "markdown",
      "metadata": {
        "id": "RWYOnUqmiSmV",
        "colab_type": "text"
      },
      "source": [
        "# Guide Numpy"
      ]
    },
    {
      "cell_type": "markdown",
      "metadata": {
        "id": "1uxmVfoJiSmb",
        "colab_type": "text"
      },
      "source": [
        "A travers ce guide nous verons les fonctions les plus utiles de numpy. <br>\n",
        "La librarie numpy est très utilisé pour la création et la manipulation de vecteurs avec python.\n"
      ]
    },
    {
      "cell_type": "code",
      "metadata": {
        "id": "7DHUFRbyiSmg",
        "colab_type": "code",
        "colab": {}
      },
      "source": [
        "import numpy as np"
      ],
      "execution_count": 0,
      "outputs": []
    },
    {
      "cell_type": "markdown",
      "metadata": {
        "id": "eI4RbtmWMv_j",
        "colab_type": "text"
      },
      "source": [
        "# Création de vecteurs"
      ]
    },
    {
      "cell_type": "markdown",
      "metadata": {
        "id": "KdtOjMpe_S3v",
        "colab_type": "text"
      },
      "source": [
        "Plusieur fonction utiles pour créer des vecteurs"
      ]
    },
    {
      "cell_type": "code",
      "metadata": {
        "id": "7EESQetu8x9F",
        "colab_type": "code",
        "colab": {}
      },
      "source": [
        "# Création d'un vecteur\n",
        ">>> np.array([[1,2],[5,6]])\n",
        "array([[1, 2],\n",
        "       [5, 6]])\n",
        "\n",
        "# Création d'un vecteur composé de 0\n",
        ">>> np.zeros((2,2))\n",
        "array([[0., 0.],\n",
        "       [0., 0.]])\n",
        "\n",
        "# Création d'un vecteur composé de 1\n",
        ">>> np.ones((2,2))\n",
        "array([[1., 1.],\n",
        "       [1., 1.]])\n",
        "\n",
        "# Création d'un vecteur composé d'une range de valeur\n",
        ">>> np.arange(start = 1, stop = 4, step = 1)\n",
        "array([1, 2, 3])\n",
        "\n",
        "# Création d'un vecteur composé de 5 nombres entre 1 et 0 à interval régulier \n",
        ">>> np.linspace(0,1,5)\n",
        "array([0.  , 0.25, 0.5 , 0.75, 1.  ])\n",
        "\n",
        "# Création d'un vecteur de n nombre aléatoire entre 0 et 1\n",
        ">>> np.random.random((2,2))\n",
        "array([[0.62420147, 0.32848398],\n",
        "       [0.59501749, 0.49543965]])\n",
        "\n",
        "# Création d'un vecteur de n nombres générés aléatoirement celon une loi normal \n",
        ">>> np.random.randn(2)\n",
        "array([0.8738856 , 1.17466123])\n",
        "\n",
        "# Création d'un vecteur de n nombres entier aléatoire entre min et max\n",
        ">>> np.random.randint(1, 10, 5)\n",
        "array([8, 2, 7, 6, 9])\n",
        "\n",
        "# Créer une matrice identité\n",
        ">>> np.eye(3,3)\n",
        "#array([[1., 0., 0.],\n",
        "#       [0., 1., 0.],\n",
        "#       [0., 0., 1.]])\n"
      ],
      "execution_count": 0,
      "outputs": []
    },
    {
      "cell_type": "markdown",
      "metadata": {
        "id": "SR9sDC5oC0aw",
        "colab_type": "text"
      },
      "source": [
        "## Informations sur un vecteur"
      ]
    },
    {
      "cell_type": "code",
      "metadata": {
        "id": "SV35m1kTC8Cs",
        "colab_type": "code",
        "colab": {}
      },
      "source": [
        "vect = np.random.random((2,2))"
      ],
      "execution_count": 0,
      "outputs": []
    },
    {
      "cell_type": "code",
      "metadata": {
        "id": "QrP4XuTVDIX0",
        "colab_type": "code",
        "colab": {}
      },
      "source": [
        "# Optenir la shape du vecteur\n",
        ">>> vect.shape\n",
        "(2, 2)\n",
        "\n",
        "# Obtenir le format du vecteur\n",
        ">>> vect.dtype\n",
        "dtype('float64')\n",
        "\n",
        "# Obtenir le nombre de dimmenssion\n",
        ">>> vect.ndim\n",
        "2\n",
        "\n",
        "# Obtenir la taille du vecteur\n",
        ">>> vect.size\n",
        "4"
      ],
      "execution_count": 0,
      "outputs": []
    },
    {
      "cell_type": "markdown",
      "metadata": {
        "id": "JOOQRag7EM8J",
        "colab_type": "text"
      },
      "source": [
        "# Manipuation de vecteur"
      ]
    },
    {
      "cell_type": "code",
      "metadata": {
        "id": "R1r8Il6lEpNg",
        "colab_type": "code",
        "outputId": "ea1d8fa1-4d47-4151-d08a-390513a74dc6",
        "colab": {
          "base_uri": "https://localhost:8080/",
          "height": 51
        }
      },
      "source": [
        "vect = np.random.random((2,2))\n",
        "vect "
      ],
      "execution_count": 0,
      "outputs": [
        {
          "output_type": "execute_result",
          "data": {
            "text/plain": [
              "array([[0.87159346, 0.31201421],\n",
              "       [0.34451705, 0.44297274]])"
            ]
          },
          "metadata": {
            "tags": []
          },
          "execution_count": 114
        }
      ]
    },
    {
      "cell_type": "code",
      "metadata": {
        "id": "Dv3Y-WIODip5",
        "colab_type": "code",
        "colab": {}
      },
      "source": [
        "# Modification du format du vecteur\n",
        ">>> vect.astype(int)\n",
        "array([[0, 0],\n",
        "       [0, 0]])\n",
        "\n",
        "# Trier le vecteur par la dimmention selectionné\n",
        ">>> np.sort(vect, axis = 0)\n",
        "array([[0.16140848, 0.64891121],\n",
        "       [0.45412182, 0.78870194]])\n",
        "\n",
        "# Ajouter un vecteur à un autre vecteur\n",
        ">>> np.append(vect,vect[:1])\n",
        "array([0.45412182, 0.64891121, 0.16140848, 0.78870194, 0.45412182, 0.64891121])\n",
        "\n",
        "# Extraire une partie d'un vecteur\n",
        ">>> vect.reshape((1,-1))\n",
        "array([[0.45412182, 0.64891121, 0.16140848, 0.78870194]])\n",
        "\n",
        "# Concatenation de deux vecteurs\n",
        ">>> np.concatenate((vect,vect),axis=0)\n",
        "array([[0.45412182, 0.64891121],\n",
        "       [0.16140848, 0.78870194],\n",
        "       [0.45412182, 0.64891121],\n",
        "       [0.16140848, 0.78870194]])\n",
        "\n",
        "# Divise un vecteur en plusieur sous-vecteur\n",
        ">>> vect1, vect2 = np.array_split(vect, 2)\n",
        ">>> print(vect1)\n",
        ">>> print(vect2)\n",
        "[[0.45412182 0.64891121]]\n",
        "[[0.16140848 0.78870194]]\n",
        "\n",
        "# Applati un vecteur en 1 dimenssion (revient au même que vect.reshape(-1))\n",
        ">>> vect.flatten()\n",
        "array([0.45412182, 0.64891121, 0.16140848, 0.78870194])\n",
        "\n",
        "# Transposition d'un vecteur\n",
        ">>> vect.transpose()\n",
        "array([[0.45412182, 0.16140848],\n",
        "       [0.64891121, 0.78870194]])\n",
        "\n",
        "# Inversion de matrice\n",
        ">>> np.linalg.inv(vect)\n",
        "array([[ 3.11214662, -2.56054505],\n",
        "       [-0.6369033 ,  1.79192371]])\n"
      ],
      "execution_count": 0,
      "outputs": []
    },
    {
      "cell_type": "markdown",
      "metadata": {
        "id": "nTRkod6iJmcZ",
        "colab_type": "text"
      },
      "source": [
        "## Opération sur les vecteurs"
      ]
    },
    {
      "cell_type": "code",
      "metadata": {
        "id": "j8QAa9UEJp0f",
        "colab_type": "code",
        "colab": {}
      },
      "source": [
        "# Adition de deux vecteurs\n",
        ">>> np.add(vect,vect)\n",
        "array([[0.50823531, 0.92420162],\n",
        "       [0.55160466, 0.24786462]])\n",
        "\n",
        "# Soustraction de deux vecteurs\n",
        ">>> np.subtract(vect,vect)\n",
        "array([[0., 0.],\n",
        "       [0., 0.]])\n",
        "\n",
        "# Division de deux vecteurs\n",
        ">>> np.divide(vect,vect)\n",
        "array([[1., 1.],\n",
        "       [1., 1.]])\n",
        "\n",
        "# Multiplication de deux vecteurs \n",
        ">>> np.multiply(vect,vect)\n",
        "array([[0.06457578, 0.21353716],\n",
        "       [0.07606693, 0.01535922]])\n",
        "\n",
        "# Produits scalaire de 2 matrices\n",
        ">>> np.dot(vect,vect)\n",
        "array([[0.19202426, 0.17469719],\n",
        "       [0.10426706, 0.1428077 ]])\n",
        "\n",
        "# Teste l'egalité entre deux vecteurs\n",
        ">>> np.equal(vect,vect)\n",
        "array([[ True,  True],\n",
        "       [ True,  True]])\n",
        "\n",
        "# passe chaque valeurs a la racine carré\n",
        ">>> np.sqrt(vect)\n",
        "array([[0.50410084, 0.67977997],\n",
        "       [0.52516886, 0.35204021]])\n",
        "\n",
        "# passe chaque valeurs au sinus\n",
        ">>> np.sin(vect)\n",
        "array([[0.2513915 , 0.44582956],\n",
        "       [0.27231903, 0.1236153 ]])\n",
        "\n",
        "# passe chaque valeurs au cosinus\n",
        ">>> np.cos(vect)\n",
        "array([[0.96788549, 0.89511787],\n",
        "       [0.96220702, 0.99233022]])\n",
        "\n",
        "# passe chaque valeurs au log\n",
        ">>> np.log(vect)\n",
        "array([[-1.36995791, -0.77197221],\n",
        "       [-1.28807086, -2.08801976]])"
      ],
      "execution_count": 0,
      "outputs": []
    },
    {
      "cell_type": "markdown",
      "metadata": {
        "id": "VU3x48FDOBdX",
        "colab_type": "text"
      },
      "source": [
        "## Agrégation"
      ]
    },
    {
      "cell_type": "code",
      "metadata": {
        "id": "OZbt8A93ODSg",
        "colab_type": "code",
        "colab": {}
      },
      "source": [
        "# Somme d'un vecteur\n",
        ">>> np.sum(vect)\n",
        "1.4661173044858296\n",
        "\n",
        "# Minimum d'un vecteur\n",
        ">>> np.min(vect)\n",
        "0.007704675895379376\n",
        "\n",
        "# Indice du minimum\n",
        ">>> np.argmin(vect)\n",
        "0\n",
        "\n",
        "# Indice des minimum pour la dimention axis\n",
        ">>> np.argmin(vect,axis=0)\n",
        "array([1, 0])\n",
        "\n",
        "# Maximum d'un vecteur \n",
        ">>> np.max(vect)\n",
        "0.8240497812697638\n",
        "\n",
        "# Indice du maximum\n",
        ">>> np.argmax(vect)\n",
        "1\n",
        "\n",
        "# Ecart type d'un vecteur\n",
        ">>> np.std(vect)\n",
        "0.29823842159783637\n",
        "\n",
        "# Somme cumulé d'un vecteur\n",
        ">>> np.cumsum(vect)\n",
        " array([0.00770468, 0.83175446, 1.0688294 , 1.4661173 ])\n",
        "\n",
        "# Coeficient de corrélation\n",
        ">>> vect = np.random.random((3,1000))\n",
        ">>> np.corrcoef(vect)\n",
        "array([[ 1.        ,  0.02158884,  0.00444511],\n",
        "       [ 0.02158884,  1.        , -0.03100398],\n",
        "       [ 0.00444511, -0.03100398,  1.        ]])"
      ],
      "execution_count": 0,
      "outputs": []
    }
  ]
}